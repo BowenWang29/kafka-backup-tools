{
 "cells": [
  {
   "cell_type": "code",
   "execution_count": 1,
   "metadata": {},
   "outputs": [],
   "source": [
    "from kafka import KafkaProducer,KafkaConsumer\n",
    "import threading, logging, time"
   ]
  },
  {
   "cell_type": "markdown",
   "metadata": {},
   "source": [
    "producerCheck = KafkaProducer(bootstrap_servers='smartaqnet-0-node1:9092',value_serializer=lambda v: json.dumps(v).encode('utf-8'), compression_type='gzip')\n",
    "\n",
    "consumer = KafkaConsumer(\"beats\", bootstrap_servers='smartaqnet-0-node1:9092')"
   ]
  },
  {
   "cell_type": "markdown",
   "metadata": {},
   "source": [
    "producerInit = KafkaProducer(bootstrap_servers='smartaqnet-dev.teco.edu:9092',value_serializer=lambda v: json.dumps(v).encode('utf-8'), compression_type='gzip')\n",
    "producerCheck = KafkaProducer(bootstrap_servers='swarm-node00.teco.edu:9092',value_serializer=lambda v: json.dumps(v).encode('utf-8'), compression_type='gzip')\n",
    "\n",
    "consumer = KafkaConsumer(\"beats\", bootstrap_servers='smartaqnet-dev.teco.edu:9092')"
   ]
  },
  {
   "cell_type": "code",
   "execution_count": 11,
   "metadata": {},
   "outputs": [],
   "source": [
    "class Producer(threading.Thread):\n",
    "    def __init__(self):\n",
    "        threading.Thread.__init__(self)\n",
    "        self.stop_event = threading.Event()\n",
    "        \n",
    "    def stop(self):\n",
    "        self.stop_event.set()\n",
    "\n",
    "    def run(self):\n",
    "        producer = KafkaProducer(bootstrap_servers='smartaqnet-0-node1:9092')\n",
    "        t = 0\n",
    "        while not self.stop_event.is_set():\n",
    "            t += 1\n",
    "            message = t\n",
    "            producer.send('beats', str(message))\n",
    "            producer.send('beats2', str(message))\n",
    "            print(\"Init message to node1:\" + str(message))\n",
    "            time.sleep(1)\n",
    "\n",
    "        producer.close()\n",
    "\n",
    "class ConsumerProducer(multiprocessing.Process):\n",
    "    def __init__(self):\n",
    "        multiprocessing.Process.__init__(self)\n",
    "        self.stop_event = multiprocessing.Event()\n",
    "        \n",
    "    def stop(self):\n",
    "        self.stop_event.set()\n",
    "        \n",
    "    def run(self):\n",
    "        consumer = KafkaConsumer(bootstrap_servers= 'smartaqnet-0-node1:9092',\n",
    "                                 auto_offset_reset='latest',\n",
    "                                 consumer_timeout_ms=1000)\n",
    "        \n",
    "        producer = KafkaProducer(bootstrap_servers='smartaqnet-0-node2:9092')\n",
    "        consumer.subscribe(['beats'])\n",
    "        while not self.stop_event.is_set():\n",
    "            for message in consumer:\n",
    "                print(\"Receive message from node1:\" + str(message.value))\n",
    "                producer.send(topic = 'beats2', value = message.value,\n",
    "                             key = message.key, partition = message.partition,\n",
    "                             timestamp_ms = message.timestamp)\n",
    "                print(\"Copy message to node2:\" + message.value)\n",
    "                if self.stop_event.is_set():\n",
    "                    break\n",
    "\n",
    "        consumer.close()\n",
    "        \n",
    "class Consumer(multiprocessing.Process):\n",
    "    def __init__(self):\n",
    "        multiprocessing.Process.__init__(self)\n",
    "        self.stop_event = multiprocessing.Event()\n",
    "        \n",
    "    def stop(self):\n",
    "        self.stop_event.set()\n",
    "        \n",
    "    def run(self):\n",
    "        consumer = KafkaConsumer(bootstrap_servers= 'smartaqnet-1-node1:9092',\n",
    "                                 auto_offset_reset='latest',\n",
    "                                 consumer_timeout_ms=10000)\n",
    "        consumer.subscribe(['beats','beats2'])\n",
    "        \n",
    "        while not self.stop_event.is_set():\n",
    "            for message in consumer:\n",
    "                print(\"Receive message from backup:\" + str(message.value))\n",
    "                if self.stop_event.is_set():\n",
    "                    break\n",
    "\n",
    "        consumer.close()"
   ]
  },
  {
   "cell_type": "code",
   "execution_count": 12,
   "metadata": {},
   "outputs": [],
   "source": [
    "tasks = [\n",
    "        Producer(),\n",
    "        #ConsumerProducer(),\n",
    "        Consumer()\n",
    "]"
   ]
  },
  {
   "cell_type": "code",
   "execution_count": 13,
   "metadata": {},
   "outputs": [
    {
     "name": "stdout",
     "output_type": "stream",
     "text": [
      "Receive message from backup:1\n",
      "Receive message from backup:1\n",
      "Init message to node1:1\n",
      "Receive message from backup:2\n",
      "Receive message from backup:2\n",
      "Init message to node1:2\n",
      "Receive message from backup:3\n",
      "Receive message from backup:3\n",
      "Init message to node1:3\n",
      "Receive message from backup:4\n",
      "Receive message from backup:4\n",
      "Init message to node1:4\n",
      "Receive message from backup:5\n",
      "Receive message from backup:5\n",
      "Init message to node1:5\n",
      "Receive message from backup:6\n",
      "Receive message from backup:6\n",
      "Init message to node1:6\n",
      "Receive message from backup:7\n",
      "Receive message from backup:7\n",
      "Init message to node1:7\n",
      "Receive message from backup:8\n",
      "Receive message from backup:8\n",
      "Init message to node1:8\n",
      "Receive message from backup:9\n",
      "Receive message from backup:9\n",
      "Init message to node1:9\n",
      "Receive message from backup:10\n",
      "Receive message from backup:10\n",
      "Init message to node1:10\n",
      "Receive message from backup:11\n",
      "Receive message from backup:11\n",
      "Init message to node1:11\n",
      "Receive message from backup:12\n",
      "Receive message from backup:12\n",
      "Init message to node1:12\n",
      "Receive message from backup:13\n",
      "Receive message from backup:13\n",
      "Init message to node1:13\n",
      "Receive message from backup:14\n",
      "Receive message from backup:14\n",
      "Init message to node1:14\n",
      "Receive message from backup:15\n",
      "Receive message from backup:15\n",
      "Init message to node1:15\n",
      "Receive message from backup:16\n",
      "Receive message from backup:16\n",
      "Init message to node1:16\n",
      "Receive message from backup:17\n",
      "Receive message from backup:17\n",
      "Init message to node1:17\n",
      "Receive message from backup:18\n",
      "Receive message from backup:18\n",
      "Init message to node1:18\n",
      "Receive message from backup:19\n",
      "Receive message from backup:19\n",
      "Init message to node1:19\n",
      "Receive message from backup:20\n",
      "Receive message from backup:20\n",
      "Init message to node1:20\n",
      "Receive message from backup:21\n",
      "Receive message from backup:21\n",
      "Init message to node1:21\n",
      "Receive message from backup:22\n",
      "Receive message from backup:22\n",
      "Init message to node1:22\n",
      "Receive message from backup:23\n",
      "Receive message from backup:23\n",
      "Init message to node1:23\n",
      "Receive message from backup:24\n",
      "Receive message from backup:24\n",
      "Init message to node1:24\n",
      "Receive message from backup:25\n",
      "Receive message from backup:25\n",
      "Init message to node1:25\n",
      "Receive message from backup:26\n",
      "Receive message from backup:26\n",
      "Init message to node1:26\n",
      "Receive message from backup:27\n",
      "Receive message from backup:27\n",
      "Init message to node1:27\n",
      "Receive message from backup:28\n",
      "Receive message from backup:28\n",
      "Init message to node1:28\n",
      "Receive message from backup:29\n",
      "Receive message from backup:29\n",
      "Init message to node1:29\n"
     ]
    }
   ],
   "source": [
    "for t in tasks:\n",
    "        t.start()"
   ]
  },
  {
   "cell_type": "code",
   "execution_count": 14,
   "metadata": {},
   "outputs": [],
   "source": [
    "for t in tasks:\n",
    "        t.stop()"
   ]
  },
  {
   "cell_type": "code",
   "execution_count": 6,
   "metadata": {},
   "outputs": [],
   "source": [
    "from kafka import TopicPartition\n",
    "aconsumer = KafkaConsumer(bootstrap_servers='smartaqnet-1-node1:9092',auto_offset_reset='earlist')"
   ]
  },
  {
   "cell_type": "code",
   "execution_count": 53,
   "metadata": {},
   "outputs": [],
   "source": [
    "aconsumer.subscribe([\"beats\",\"beats2\"])"
   ]
  },
  {
   "cell_type": "code",
   "execution_count": 61,
   "metadata": {},
   "outputs": [
    {
     "ename": "AttributeError",
     "evalue": "'NoneType' object has no attribute 'copy'",
     "output_type": "error",
     "traceback": [
      "\u001b[0;31m---------------------------------------------------------------------------\u001b[0m",
      "\u001b[0;31mAttributeError\u001b[0m                            Traceback (most recent call last)",
      "\u001b[0;32m<ipython-input-61-469d0001b7d4>\u001b[0m in \u001b[0;36m<module>\u001b[0;34m()\u001b[0m\n\u001b[0;32m----> 1\u001b[0;31m \u001b[0maconsumer\u001b[0m\u001b[0;34m.\u001b[0m\u001b[0msubscription\u001b[0m\u001b[0;34m(\u001b[0m\u001b[0;34m)\u001b[0m\u001b[0;34m\u001b[0m\u001b[0m\n\u001b[0m",
      "\u001b[0;32m/home/wang/anaconda2/lib/python2.7/site-packages/kafka/consumer/group.pyc\u001b[0m in \u001b[0;36msubscription\u001b[0;34m(self)\u001b[0m\n\u001b[1;32m    836\u001b[0m             \u001b[0mset\u001b[0m\u001b[0;34m:\u001b[0m \u001b[0;34m{\u001b[0m\u001b[0mtopic\u001b[0m\u001b[0;34m,\u001b[0m \u001b[0;34m.\u001b[0m\u001b[0;34m.\u001b[0m\u001b[0;34m.\u001b[0m\u001b[0;34m}\u001b[0m\u001b[0;34m\u001b[0m\u001b[0m\n\u001b[1;32m    837\u001b[0m         \"\"\"\n\u001b[0;32m--> 838\u001b[0;31m         \u001b[0;32mreturn\u001b[0m \u001b[0mself\u001b[0m\u001b[0;34m.\u001b[0m\u001b[0m_subscription\u001b[0m\u001b[0;34m.\u001b[0m\u001b[0msubscription\u001b[0m\u001b[0;34m.\u001b[0m\u001b[0mcopy\u001b[0m\u001b[0;34m(\u001b[0m\u001b[0;34m)\u001b[0m\u001b[0;34m\u001b[0m\u001b[0m\n\u001b[0m\u001b[1;32m    839\u001b[0m \u001b[0;34m\u001b[0m\u001b[0m\n\u001b[1;32m    840\u001b[0m     \u001b[0;32mdef\u001b[0m \u001b[0munsubscribe\u001b[0m\u001b[0;34m(\u001b[0m\u001b[0mself\u001b[0m\u001b[0;34m)\u001b[0m\u001b[0;34m:\u001b[0m\u001b[0;34m\u001b[0m\u001b[0m\n",
      "\u001b[0;31mAttributeError\u001b[0m: 'NoneType' object has no attribute 'copy'"
     ]
    }
   ],
   "source": [
    "aconsumer.subscription()"
   ]
  },
  {
   "cell_type": "code",
   "execution_count": 38,
   "metadata": {},
   "outputs": [
    {
     "data": {
      "text/plain": [
       "{'api_version': (0, 11, 0),\n",
       " 'api_version_auto_timeout_ms': 2000,\n",
       " 'auto_commit_interval_ms': 5000,\n",
       " 'auto_offset_reset': 'earlist',\n",
       " 'bootstrap_servers': 'smartaqnet-0-node3:9092',\n",
       " 'check_crcs': True,\n",
       " 'client_id': 'kafka-python-1.3.5',\n",
       " 'connections_max_idle_ms': 540000,\n",
       " 'consumer_timeout_ms': inf,\n",
       " 'default_offset_commit_callback': <function kafka.consumer.group.<lambda>>,\n",
       " 'enable_auto_commit': True,\n",
       " 'exclude_internal_topics': True,\n",
       " 'fetch_max_bytes': 52428800,\n",
       " 'fetch_max_wait_ms': 500,\n",
       " 'fetch_min_bytes': 1,\n",
       " 'group_id': None,\n",
       " 'heartbeat_interval_ms': 3000,\n",
       " 'key_deserializer': None,\n",
       " 'max_in_flight_requests_per_connection': 5,\n",
       " 'max_partition_fetch_bytes': 1048576,\n",
       " 'max_poll_records': 500,\n",
       " 'metadata_max_age_ms': 300000,\n",
       " 'metric_group_prefix': 'consumer',\n",
       " 'metric_reporters': [],\n",
       " 'metrics_num_samples': 2,\n",
       " 'metrics_sample_window_ms': 30000,\n",
       " 'partition_assignment_strategy': (kafka.coordinator.assignors.range.RangePartitionAssignor,\n",
       "  kafka.coordinator.assignors.roundrobin.RoundRobinPartitionAssignor),\n",
       " 'receive_buffer_bytes': None,\n",
       " 'reconnect_backoff_max_ms': 1000,\n",
       " 'reconnect_backoff_ms': 50,\n",
       " 'request_timeout_ms': 40000,\n",
       " 'retry_backoff_ms': 100,\n",
       " 'sasl_mechanism': None,\n",
       " 'sasl_plain_password': None,\n",
       " 'sasl_plain_username': None,\n",
       " 'security_protocol': 'PLAINTEXT',\n",
       " 'selector': kafka.vendor.selectors34.EpollSelector,\n",
       " 'send_buffer_bytes': None,\n",
       " 'session_timeout_ms': 30000,\n",
       " 'skip_double_compressed_messages': False,\n",
       " 'socket_options': [(6, 1, 1)],\n",
       " 'ssl_cafile': None,\n",
       " 'ssl_certfile': None,\n",
       " 'ssl_check_hostname': True,\n",
       " 'ssl_context': None,\n",
       " 'ssl_crlfile': None,\n",
       " 'ssl_keyfile': None,\n",
       " 'ssl_password': None,\n",
       " 'value_deserializer': None}"
      ]
     },
     "execution_count": 38,
     "metadata": {},
     "output_type": "execute_result"
    }
   ],
   "source": [
    "aconsumer.config"
   ]
  },
  {
   "cell_type": "code",
   "execution_count": 7,
   "metadata": {},
   "outputs": [],
   "source": [
    "aconsumer.assign([TopicPartition('beats', 0)])"
   ]
  },
  {
   "cell_type": "code",
   "execution_count": 8,
   "metadata": {},
   "outputs": [],
   "source": [
    "aconsumer.assign([TopicPartition('beats2', 0)])"
   ]
  },
  {
   "cell_type": "code",
   "execution_count": 9,
   "metadata": {},
   "outputs": [],
   "source": [
    "aconsumer.seek_to_beginning()"
   ]
  },
  {
   "cell_type": "code",
   "execution_count": 10,
   "metadata": {},
   "outputs": [
    {
     "name": "stdout",
     "output_type": "stream",
     "text": [
      "Receive message from node3:56 beats2\n",
      "Receive message from node3:57 beats2\n",
      "Receive message from node3:58 beats2\n",
      "Receive message from node3:59 beats2\n",
      "Receive message from node3:60 beats2\n",
      "Receive message from node3:61 beats2\n",
      "Receive message from node3:62 beats2\n",
      "Receive message from node3:63 beats2\n",
      "Receive message from node3:64 beats2\n",
      "Receive message from node3:65 beats2\n",
      "Receive message from node3:66 beats2\n",
      "Receive message from node3:67 beats2\n",
      "Receive message from node3:68 beats2\n",
      "Receive message from node3:69 beats2\n",
      "Receive message from node3:70 beats2\n",
      "Receive message from node3:71 beats2\n",
      "Receive message from node3:72 beats2\n",
      "Receive message from node3:73 beats2\n",
      "Receive message from node3:74 beats2\n",
      "Receive message from node3:75 beats2\n",
      "Receive message from node3:76 beats2\n",
      "Receive message from node3:77 beats2\n",
      "Receive message from node3:78 beats2\n",
      "Receive message from node3:79 beats2\n",
      "Receive message from node3:80 beats2\n",
      "Receive message from node3:81 beats2\n",
      "Receive message from node3:82 beats2\n",
      "Receive message from node3:83 beats2\n",
      "Receive message from node3:84 beats2\n",
      "Receive message from node3:85 beats2\n",
      "Receive message from node3:86 beats2\n",
      "Receive message from node3:87 beats2\n",
      "Receive message from node3:88 beats2\n",
      "Receive message from node3:89 beats2\n",
      "Receive message from node3:90 beats2\n",
      "Receive message from node3:91 beats2\n",
      "Receive message from node3:92 beats2\n",
      "Receive message from node3:93 beats2\n",
      "Receive message from node3:94 beats2\n",
      "Receive message from node3:95 beats2\n",
      "Receive message from node3:96 beats2\n",
      "Receive message from node3:97 beats2\n",
      "Receive message from node3:98 beats2\n",
      "Receive message from node3:99 beats2\n",
      "Receive message from node3:100 beats2\n",
      "Receive message from node3:101 beats2\n",
      "Receive message from node3:102 beats2\n",
      "Receive message from node3:103 beats2\n",
      "Receive message from node3:104 beats2\n",
      "Receive message from node3:105 beats2\n",
      "Receive message from node3:113 beats2\n",
      "Receive message from node3:114 beats2\n",
      "Receive message from node3:115 beats2\n",
      "Receive message from node3:116 beats2\n",
      "Receive message from node3:117 beats2\n",
      "Receive message from node3:118 beats2\n",
      "Receive message from node3:119 beats2\n",
      "Receive message from node3:120 beats2\n",
      "Receive message from node3:121 beats2\n"
     ]
    },
    {
     "ename": "KeyboardInterrupt",
     "evalue": "",
     "output_type": "error",
     "traceback": [
      "\u001b[0;31m---------------------------------------------------------------------------\u001b[0m",
      "\u001b[0;31mKeyboardInterrupt\u001b[0m                         Traceback (most recent call last)",
      "\u001b[0;32m<ipython-input-10-8acae0c4b4ad>\u001b[0m in \u001b[0;36m<module>\u001b[0;34m()\u001b[0m\n\u001b[0;32m----> 1\u001b[0;31m \u001b[0;32mfor\u001b[0m \u001b[0mmessage\u001b[0m \u001b[0;32min\u001b[0m \u001b[0maconsumer\u001b[0m\u001b[0;34m:\u001b[0m\u001b[0;34m\u001b[0m\u001b[0m\n\u001b[0m\u001b[1;32m      2\u001b[0m     \u001b[0;32mprint\u001b[0m\u001b[0;34m(\u001b[0m\u001b[0;34m\"Receive message from node3:\"\u001b[0m \u001b[0;34m+\u001b[0m \u001b[0mstr\u001b[0m\u001b[0;34m(\u001b[0m\u001b[0mmessage\u001b[0m\u001b[0;34m.\u001b[0m\u001b[0mvalue\u001b[0m\u001b[0;34m)\u001b[0m \u001b[0;34m+\u001b[0m \u001b[0;34m\" \"\u001b[0m \u001b[0;34m+\u001b[0m  \u001b[0mstr\u001b[0m\u001b[0;34m(\u001b[0m\u001b[0mmessage\u001b[0m\u001b[0;34m.\u001b[0m\u001b[0mtopic\u001b[0m\u001b[0;34m)\u001b[0m\u001b[0;34m)\u001b[0m\u001b[0;34m\u001b[0m\u001b[0m\n",
      "\u001b[0;32m/home/wang/anaconda2/lib/python2.7/site-packages/kafka/vendor/six.pyc\u001b[0m in \u001b[0;36mnext\u001b[0;34m(self)\u001b[0m\n\u001b[1;32m    559\u001b[0m \u001b[0;34m\u001b[0m\u001b[0m\n\u001b[1;32m    560\u001b[0m         \u001b[0;32mdef\u001b[0m \u001b[0mnext\u001b[0m\u001b[0;34m(\u001b[0m\u001b[0mself\u001b[0m\u001b[0;34m)\u001b[0m\u001b[0;34m:\u001b[0m\u001b[0;34m\u001b[0m\u001b[0m\n\u001b[0;32m--> 561\u001b[0;31m             \u001b[0;32mreturn\u001b[0m \u001b[0mtype\u001b[0m\u001b[0;34m(\u001b[0m\u001b[0mself\u001b[0m\u001b[0;34m)\u001b[0m\u001b[0;34m.\u001b[0m\u001b[0m__next__\u001b[0m\u001b[0;34m(\u001b[0m\u001b[0mself\u001b[0m\u001b[0;34m)\u001b[0m\u001b[0;34m\u001b[0m\u001b[0m\n\u001b[0m\u001b[1;32m    562\u001b[0m \u001b[0;34m\u001b[0m\u001b[0m\n\u001b[1;32m    563\u001b[0m     \u001b[0mcallable\u001b[0m \u001b[0;34m=\u001b[0m \u001b[0mcallable\u001b[0m\u001b[0;34m\u001b[0m\u001b[0m\n",
      "\u001b[0;32m/home/wang/anaconda2/lib/python2.7/site-packages/kafka/consumer/group.pyc\u001b[0m in \u001b[0;36m__next__\u001b[0;34m(self)\u001b[0m\n\u001b[1;32m   1073\u001b[0m         \u001b[0mself\u001b[0m\u001b[0;34m.\u001b[0m\u001b[0m_set_consumer_timeout\u001b[0m\u001b[0;34m(\u001b[0m\u001b[0;34m)\u001b[0m\u001b[0;34m\u001b[0m\u001b[0m\n\u001b[1;32m   1074\u001b[0m         \u001b[0;32mtry\u001b[0m\u001b[0;34m:\u001b[0m\u001b[0;34m\u001b[0m\u001b[0m\n\u001b[0;32m-> 1075\u001b[0;31m             \u001b[0;32mreturn\u001b[0m \u001b[0mnext\u001b[0m\u001b[0;34m(\u001b[0m\u001b[0mself\u001b[0m\u001b[0;34m.\u001b[0m\u001b[0m_iterator\u001b[0m\u001b[0;34m)\u001b[0m\u001b[0;34m\u001b[0m\u001b[0m\n\u001b[0m\u001b[1;32m   1076\u001b[0m         \u001b[0;32mexcept\u001b[0m \u001b[0mStopIteration\u001b[0m\u001b[0;34m:\u001b[0m\u001b[0;34m\u001b[0m\u001b[0m\n\u001b[1;32m   1077\u001b[0m             \u001b[0mself\u001b[0m\u001b[0;34m.\u001b[0m\u001b[0m_iterator\u001b[0m \u001b[0;34m=\u001b[0m \u001b[0mNone\u001b[0m\u001b[0;34m\u001b[0m\u001b[0m\n",
      "\u001b[0;32m/home/wang/anaconda2/lib/python2.7/site-packages/kafka/consumer/group.pyc\u001b[0m in \u001b[0;36m_message_generator\u001b[0;34m(self)\u001b[0m\n\u001b[1;32m   1011\u001b[0m             \u001b[0;32mif\u001b[0m \u001b[0;32mnot\u001b[0m \u001b[0mself\u001b[0m\u001b[0;34m.\u001b[0m\u001b[0m_fetcher\u001b[0m\u001b[0;34m.\u001b[0m\u001b[0min_flight_fetches\u001b[0m\u001b[0;34m(\u001b[0m\u001b[0;34m)\u001b[0m\u001b[0;34m:\u001b[0m\u001b[0;34m\u001b[0m\u001b[0m\n\u001b[1;32m   1012\u001b[0m                 \u001b[0mpoll_ms\u001b[0m \u001b[0;34m=\u001b[0m \u001b[0;36m0\u001b[0m\u001b[0;34m\u001b[0m\u001b[0m\n\u001b[0;32m-> 1013\u001b[0;31m             \u001b[0mself\u001b[0m\u001b[0;34m.\u001b[0m\u001b[0m_client\u001b[0m\u001b[0;34m.\u001b[0m\u001b[0mpoll\u001b[0m\u001b[0;34m(\u001b[0m\u001b[0mtimeout_ms\u001b[0m\u001b[0;34m=\u001b[0m\u001b[0mpoll_ms\u001b[0m\u001b[0;34m)\u001b[0m\u001b[0;34m\u001b[0m\u001b[0m\n\u001b[0m\u001b[1;32m   1014\u001b[0m \u001b[0;34m\u001b[0m\u001b[0m\n\u001b[1;32m   1015\u001b[0m             \u001b[0;31m# We need to make sure we at least keep up with scheduled tasks,\u001b[0m\u001b[0;34m\u001b[0m\u001b[0;34m\u001b[0m\u001b[0m\n",
      "\u001b[0;32m/home/wang/anaconda2/lib/python2.7/site-packages/kafka/client_async.pyc\u001b[0m in \u001b[0;36mpoll\u001b[0;34m(self, timeout_ms, future, delayed_tasks)\u001b[0m\n\u001b[1;32m    552\u001b[0m                 \u001b[0mtimeout\u001b[0m \u001b[0;34m=\u001b[0m \u001b[0mmax\u001b[0m\u001b[0;34m(\u001b[0m\u001b[0;36m0\u001b[0m\u001b[0;34m,\u001b[0m \u001b[0mtimeout\u001b[0m \u001b[0;34m/\u001b[0m \u001b[0;36m1000.0\u001b[0m\u001b[0;34m)\u001b[0m  \u001b[0;31m# avoid negative timeouts\u001b[0m\u001b[0;34m\u001b[0m\u001b[0m\n\u001b[1;32m    553\u001b[0m \u001b[0;34m\u001b[0m\u001b[0m\n\u001b[0;32m--> 554\u001b[0;31m             \u001b[0mresponses\u001b[0m\u001b[0;34m.\u001b[0m\u001b[0mextend\u001b[0m\u001b[0;34m(\u001b[0m\u001b[0mself\u001b[0m\u001b[0;34m.\u001b[0m\u001b[0m_poll\u001b[0m\u001b[0;34m(\u001b[0m\u001b[0mtimeout\u001b[0m\u001b[0;34m)\u001b[0m\u001b[0;34m)\u001b[0m\u001b[0;34m\u001b[0m\u001b[0m\n\u001b[0m\u001b[1;32m    555\u001b[0m \u001b[0;34m\u001b[0m\u001b[0m\n\u001b[1;32m    556\u001b[0m             \u001b[0;31m# If all we had was a timeout (future is None) - only do one poll\u001b[0m\u001b[0;34m\u001b[0m\u001b[0;34m\u001b[0m\u001b[0m\n",
      "\u001b[0;32m/home/wang/anaconda2/lib/python2.7/site-packages/kafka/client_async.pyc\u001b[0m in \u001b[0;36m_poll\u001b[0;34m(self, timeout)\u001b[0m\n\u001b[1;32m    566\u001b[0m \u001b[0;34m\u001b[0m\u001b[0m\n\u001b[1;32m    567\u001b[0m         \u001b[0mstart_select\u001b[0m \u001b[0;34m=\u001b[0m \u001b[0mtime\u001b[0m\u001b[0;34m.\u001b[0m\u001b[0mtime\u001b[0m\u001b[0;34m(\u001b[0m\u001b[0;34m)\u001b[0m\u001b[0;34m\u001b[0m\u001b[0m\n\u001b[0;32m--> 568\u001b[0;31m         \u001b[0mready\u001b[0m \u001b[0;34m=\u001b[0m \u001b[0mself\u001b[0m\u001b[0;34m.\u001b[0m\u001b[0m_selector\u001b[0m\u001b[0;34m.\u001b[0m\u001b[0mselect\u001b[0m\u001b[0;34m(\u001b[0m\u001b[0mtimeout\u001b[0m\u001b[0;34m)\u001b[0m\u001b[0;34m\u001b[0m\u001b[0m\n\u001b[0m\u001b[1;32m    569\u001b[0m         \u001b[0mend_select\u001b[0m \u001b[0;34m=\u001b[0m \u001b[0mtime\u001b[0m\u001b[0;34m.\u001b[0m\u001b[0mtime\u001b[0m\u001b[0;34m(\u001b[0m\u001b[0;34m)\u001b[0m\u001b[0;34m\u001b[0m\u001b[0m\n\u001b[1;32m    570\u001b[0m         \u001b[0;32mif\u001b[0m \u001b[0mself\u001b[0m\u001b[0;34m.\u001b[0m\u001b[0m_sensors\u001b[0m\u001b[0;34m:\u001b[0m\u001b[0;34m\u001b[0m\u001b[0m\n",
      "\u001b[0;32m/home/wang/anaconda2/lib/python2.7/site-packages/kafka/vendor/selectors34.pyc\u001b[0m in \u001b[0;36mselect\u001b[0;34m(self, timeout)\u001b[0m\n\u001b[1;32m    464\u001b[0m             \u001b[0mready\u001b[0m \u001b[0;34m=\u001b[0m \u001b[0;34m[\u001b[0m\u001b[0;34m]\u001b[0m\u001b[0;34m\u001b[0m\u001b[0m\n\u001b[1;32m    465\u001b[0m             \u001b[0;32mtry\u001b[0m\u001b[0;34m:\u001b[0m\u001b[0;34m\u001b[0m\u001b[0m\n\u001b[0;32m--> 466\u001b[0;31m                 \u001b[0mfd_event_list\u001b[0m \u001b[0;34m=\u001b[0m \u001b[0mself\u001b[0m\u001b[0;34m.\u001b[0m\u001b[0m_epoll\u001b[0m\u001b[0;34m.\u001b[0m\u001b[0mpoll\u001b[0m\u001b[0;34m(\u001b[0m\u001b[0mtimeout\u001b[0m\u001b[0;34m,\u001b[0m \u001b[0mmax_ev\u001b[0m\u001b[0;34m)\u001b[0m\u001b[0;34m\u001b[0m\u001b[0m\n\u001b[0m\u001b[1;32m    467\u001b[0m             \u001b[0;32mexcept\u001b[0m \u001b[0mIOError\u001b[0m \u001b[0;32mas\u001b[0m \u001b[0mexc\u001b[0m\u001b[0;34m:\u001b[0m\u001b[0;34m\u001b[0m\u001b[0m\n\u001b[1;32m    468\u001b[0m                 \u001b[0;32mif\u001b[0m \u001b[0mexc\u001b[0m\u001b[0;34m.\u001b[0m\u001b[0merrno\u001b[0m \u001b[0;34m==\u001b[0m \u001b[0mEINTR\u001b[0m\u001b[0;34m:\u001b[0m\u001b[0;34m\u001b[0m\u001b[0m\n",
      "\u001b[0;31mKeyboardInterrupt\u001b[0m: "
     ]
    }
   ],
   "source": [
    "for message in aconsumer:\n",
    "    print(\"Receive message from node3:\" + str(message.value) + \" \" +  str(message.topic))"
   ]
  },
  {
   "cell_type": "code",
   "execution_count": 44,
   "metadata": {},
   "outputs": [
    {
     "data": {
      "text/plain": [
       "'43'"
      ]
     },
     "execution_count": 44,
     "metadata": {},
     "output_type": "execute_result"
    }
   ],
   "source": [
    "aRec.timestamp"
   ]
  },
  {
   "cell_type": "code",
   "execution_count": 49,
   "metadata": {},
   "outputs": [],
   "source": [
    "producer = KafkaProducer(bootstrap_servers='smartaqnet-0-node3:9092',value_serializer=lambda v: json.dumps(v).encode('utf-8'), compression_type='gzip')"
   ]
  },
  {
   "cell_type": "code",
   "execution_count": 50,
   "metadata": {},
   "outputs": [
    {
     "data": {
      "text/plain": [
       "<kafka.producer.future.FutureRecordMetadata at 0x7f2f00a80410>"
      ]
     },
     "execution_count": 50,
     "metadata": {},
     "output_type": "execute_result"
    }
   ],
   "source": [
    "producer.send('beats', \"someThing\")"
   ]
  },
  {
   "cell_type": "code",
   "execution_count": null,
   "metadata": {},
   "outputs": [],
   "source": []
  },
  {
   "cell_type": "code",
   "execution_count": 28,
   "metadata": {},
   "outputs": [],
   "source": [
    "from kafka import KafkaProducer,KafkaConsumer,BrokerConnection\n",
    "from kafka.client import KafkaClient "
   ]
  },
  {
   "cell_type": "code",
   "execution_count": 29,
   "metadata": {},
   "outputs": [],
   "source": [
    "aKafkaClient = KafkaClient(bootstrap_servers = 'smartaqnet-0-node3:9092')"
   ]
  },
  {
   "cell_type": "code",
   "execution_count": 35,
   "metadata": {},
   "outputs": [
    {
     "data": {
      "text/plain": [
       "True"
      ]
     },
     "execution_count": 35,
     "metadata": {},
     "output_type": "execute_result"
    }
   ],
   "source": [
    "aKafkaClient.connected(1003)"
   ]
  },
  {
   "cell_type": "code",
   "execution_count": 39,
   "metadata": {},
   "outputs": [
    {
     "data": {
      "text/plain": [
       "<kafka.future.Future at 0x7ff8d78c1e10>"
      ]
     },
     "execution_count": 39,
     "metadata": {},
     "output_type": "execute_result"
    }
   ],
   "source": [
    "aKafkaClient.set_topics(\"aTopic\")"
   ]
  },
  {
   "cell_type": "code",
   "execution_count": 45,
   "metadata": {},
   "outputs": [
    {
     "data": {
      "text/plain": [
       "(0, 11, 0)"
      ]
     },
     "execution_count": 45,
     "metadata": {},
     "output_type": "execute_result"
    }
   ],
   "source": [
    "aKafkaClient.check_version()"
   ]
  },
  {
   "cell_type": "code",
   "execution_count": 42,
   "metadata": {},
   "outputs": [],
   "source": [
    "aBrocker = BrokerConnection(\"smartaqnet-0-node1\",\"9092\",0,api_version=(0,10))"
   ]
  },
  {
   "cell_type": "code",
   "execution_count": 26,
   "metadata": {},
   "outputs": [
    {
     "data": {
      "text/plain": [
       "'<connecting>'"
      ]
     },
     "execution_count": 26,
     "metadata": {},
     "output_type": "execute_result"
    }
   ],
   "source": [
    "aBrocker.connect()"
   ]
  },
  {
   "cell_type": "code",
   "execution_count": 43,
   "metadata": {},
   "outputs": [
    {
     "data": {
      "text/plain": [
       "False"
      ]
     },
     "execution_count": 43,
     "metadata": {},
     "output_type": "execute_result"
    }
   ],
   "source": [
    "aBrocker.connected()"
   ]
  },
  {
   "cell_type": "code",
   "execution_count": 44,
   "metadata": {},
   "outputs": [
    {
     "data": {
      "text/plain": [
       "False"
      ]
     },
     "execution_count": 44,
     "metadata": {},
     "output_type": "execute_result"
    }
   ],
   "source": [
    "aBrocker.connecting()"
   ]
  },
  {
   "cell_type": "code",
   "execution_count": 41,
   "metadata": {},
   "outputs": [
    {
     "data": {
      "text/plain": [
       "'<connecting>'"
      ]
     },
     "execution_count": 41,
     "metadata": {},
     "output_type": "execute_result"
    }
   ],
   "source": [
    "aBrocker.state"
   ]
  },
  {
   "cell_type": "code",
   "execution_count": 46,
   "metadata": {},
   "outputs": [],
   "source": [
    "producer = KafkaProducer(bootstrap_servers='smartaqnet-0-node3:9092',value_serializer=lambda v: json.dumps(v).encode('utf-8'), compression_type='gzip')"
   ]
  },
  {
   "cell_type": "code",
   "execution_count": 47,
   "metadata": {},
   "outputs": [],
   "source": [
    "for i in range(1000):\n",
    "    producer.send('bTopic', \"someThing\")"
   ]
  },
  {
   "cell_type": "code",
   "execution_count": 48,
   "metadata": {},
   "outputs": [],
   "source": [
    "#Consumer\n",
    "from kafka import TopicPartition\n",
    "aconsumer = KafkaConsumer(bootstrap_servers='smartaqnet-0-node3:9092',auto_offset_reset='earlist',consumer_timeout_ms=10000,group_id=\"agroup\")\n",
    "#aconsumer.subscribe([\"aTopic\"])\n",
    "aconsumer.assign([TopicPartition('beatsGlobal', 0)])\n",
    "aconsumer.seek_to_beginning()"
   ]
  },
  {
   "cell_type": "code",
   "execution_count": 12,
   "metadata": {},
   "outputs": [],
   "source": [
    "for message in aconsumer:\n",
    "    print(\"Receive message from node1:\" + str(message.value) + \" \" +  str(message.topic))"
   ]
  },
  {
   "cell_type": "code",
   "execution_count": 53,
   "metadata": {},
   "outputs": [
    {
     "data": {
      "text/plain": [
       "{TopicPartition(topic='beatsGlobal', partition=0)}"
      ]
     },
     "execution_count": 53,
     "metadata": {},
     "output_type": "execute_result"
    }
   ],
   "source": [
    "aconsumer.assignment()"
   ]
  },
  {
   "cell_type": "code",
   "execution_count": 27,
   "metadata": {},
   "outputs": [
    {
     "data": {
      "text/plain": [
       "<kafka.producer.future.FutureRecordMetadata at 0x7ff8d789b250>"
      ]
     },
     "execution_count": 27,
     "metadata": {},
     "output_type": "execute_result"
    }
   ],
   "source": [
    "producer.send(topic='aTopic', value=\"someThing\")"
   ]
  },
  {
   "cell_type": "code",
   "execution_count": null,
   "metadata": {},
   "outputs": [],
   "source": []
  }
 ],
 "metadata": {
  "kernelspec": {
   "display_name": "Python 2",
   "language": "python",
   "name": "python2"
  },
  "language_info": {
   "codemirror_mode": {
    "name": "ipython",
    "version": 2
   },
   "file_extension": ".py",
   "mimetype": "text/x-python",
   "name": "python",
   "nbconvert_exporter": "python",
   "pygments_lexer": "ipython2",
   "version": "2.7.15"
  }
 },
 "nbformat": 4,
 "nbformat_minor": 2
}
