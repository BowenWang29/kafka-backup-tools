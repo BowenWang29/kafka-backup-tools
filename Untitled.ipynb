{
 "cells": [
  {
   "cell_type": "code",
   "execution_count": 1,
   "metadata": {},
   "outputs": [],
   "source": [
    "import requests, json\n",
    "import numpy as np\n",
    "import pandas as pd\n",
    "import time"
   ]
  },
  {
   "cell_type": "code",
   "execution_count": 2,
   "metadata": {},
   "outputs": [],
   "source": [
    "urlHome = 'http://tecopc-wang.teco.edu:8080/FROST-Server/v1.0'\n",
    "urlThings = urlHome + '/Things'"
   ]
  },
  {
   "cell_type": "code",
   "execution_count": null,
   "metadata": {},
   "outputs": [
    {
     "name": "stdout",
     "output_type": "stream",
     "text": [
      "{'properties': {'Case Used': 'Radiation shield', 'Deployment Condition': 'Deployed in a third floor balcony'}, 'Locations': [{'location': {'type': 'Point', 'coordinates': [-114.133, 51.08]}, 'encodingType': 'application/vnd.geo+json', 'name': 'UofC CCIT', 'description': 'University of Calgary, CCIT building'}], 'name': 'Temperature Monitoring System', 'description': 'Sensor system monitoring area temperature'}\n",
      "('Error:', 500)\n",
      "Failed to store data.\n",
      "('Error:', 500)\n",
      "Failed to store data.\n",
      "('Error:', 500)\n",
      "Failed to store data.\n",
      "('Error:', 500)\n",
      "Failed to store data.\n",
      "('Error:', 500)\n",
      "Failed to store data.\n",
      "('Error:', 500)\n",
      "Failed to store data.\n",
      "('Error:', 500)\n",
      "Failed to store data.\n",
      "('Error:', 500)\n",
      "Failed to store data.\n",
      "('Error:', 500)\n",
      "Failed to store data.\n",
      "('Error:', 500)\n",
      "Failed to store data.\n",
      "('Error:', 500)\n",
      "Failed to store data.\n",
      "('Error:', 500)\n",
      "Failed to store data.\n",
      "('Error:', 500)\n"
     ]
    }
   ],
   "source": [
    "data_thing = {\n",
    "  \"name\": \"Temperature Monitoring System\",\n",
    "  \"description\": \"Sensor system monitoring area temperature\",\n",
    "  \"properties\": {\n",
    "    \"Deployment Condition\": \"Deployed in a third floor balcony\",\n",
    "    \"Case Used\": \"Radiation shield\"\n",
    "  },\n",
    "  \"Locations\": [{\n",
    "    \"name\": \"UofC CCIT\",\n",
    "    \"description\": \"University of Calgary, CCIT building\",\n",
    "    \"encodingType\": \"application/vnd.geo+json\",\n",
    "    \"location\": {\n",
    "      \"type\": \"Point\",\n",
    "      \"coordinates\": [-114.133, 51.08]\n",
    "    }\n",
    "  }]\n",
    "}\n",
    "filter = \"/Things('wzu.uni-augsburg.de/Aerosolmessstation-0')\"\n",
    "\n",
    "print(data_thing)\n",
    "ctr = 0\n",
    "while(True):\n",
    "    p = requests.post(urlThings, json.dumps(data_thing))\n",
    "    ctr += 1\n",
    "    if (p.status_code  == 201):\n",
    "        print(ctr)\n",
    "    else:\n",
    "        print(\"Error:\", p.status_code)\n",
    "    time.sleep(0.5)\n",
    "    for chunk in p.iter_content(chunk_size=128):\n",
    "        print(chunk)\n",
    "    "
   ]
  },
  {
   "cell_type": "code",
   "execution_count": 4,
   "metadata": {},
   "outputs": [
    {
     "ename": "ImportError",
     "evalue": "No module named parse",
     "output_type": "error",
     "traceback": [
      "\u001b[0;31m---------------------------------------------------------------------------\u001b[0m",
      "\u001b[0;31mImportError\u001b[0m                               Traceback (most recent call last)",
      "\u001b[0;32m<ipython-input-4-3012f3e5ddb7>\u001b[0m in \u001b[0;36m<module>\u001b[0;34m()\u001b[0m\n\u001b[0;32m----> 1\u001b[0;31m \u001b[0;32mfrom\u001b[0m \u001b[0murllib\u001b[0m\u001b[0;34m.\u001b[0m\u001b[0mparse\u001b[0m \u001b[0;32mimport\u001b[0m \u001b[0murlparse\u001b[0m\u001b[0;34m\u001b[0m\u001b[0m\n\u001b[0m",
      "\u001b[0;31mImportError\u001b[0m: No module named parse"
     ]
    }
   ],
   "source": [
    "from urllib.parse import urlparse"
   ]
  },
  {
   "cell_type": "code",
   "execution_count": 5,
   "metadata": {},
   "outputs": [],
   "source": [
    "import urllib"
   ]
  },
  {
   "cell_type": "code",
   "execution_count": null,
   "metadata": {},
   "outputs": [],
   "source": []
  }
 ],
 "metadata": {
  "kernelspec": {
   "display_name": "Python 2",
   "language": "python",
   "name": "python2"
  },
  "language_info": {
   "codemirror_mode": {
    "name": "ipython",
    "version": 2
   },
   "file_extension": ".py",
   "mimetype": "text/x-python",
   "name": "python",
   "nbconvert_exporter": "python",
   "pygments_lexer": "ipython2",
   "version": "2.7.15"
  }
 },
 "nbformat": 4,
 "nbformat_minor": 2
}
