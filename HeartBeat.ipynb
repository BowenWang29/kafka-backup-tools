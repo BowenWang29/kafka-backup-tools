{
 "cells": [
  {
   "cell_type": "markdown",
   "metadata": {},
   "source": [
    "# KFC Healthy diagnose\n",
    "Sends 3 heart beat signals to concatenated kfcs, two for either and one through both.\n",
    "The pulses received will be used to diagnose the healthy of the system."
   ]
  },
  {
   "cell_type": "code",
   "execution_count": 1,
   "metadata": {},
   "outputs": [],
   "source": [
    "from kafka import KafkaProducer,KafkaConsumer\n",
    "import threading, logging, time, Queue\n",
    "from datetime import datetime\n",
    "import multiprocessing\n",
    "\n"
   ]
  },
  {
   "cell_type": "code",
   "execution_count": 2,
   "metadata": {},
   "outputs": [],
   "source": [
    "topics = [\"beatsGlobal\",\"beatsLocal\"]\n",
    "KFC_0 = ['smartaqnet-0-node1:9092','smartaqnet-0-node2:9092','smartaqnet-0-node3:9092']\n",
    "KFC_1 = ['smartaqnet-1-node1:9092']\n",
    "#\n",
    "\n",
    "global heartBeatCounter\n",
    "global heartBeatMessage\n",
    "heartBeatCounter = [0,0,0]\n",
    "heartBeatMessage = 0"
   ]
  },
  {
   "cell_type": "code",
   "execution_count": 3,
   "metadata": {},
   "outputs": [
    {
     "data": {
      "text/plain": [
       "[0, 0, 0]"
      ]
     },
     "execution_count": 3,
     "metadata": {},
     "output_type": "execute_result"
    }
   ],
   "source": [
    "heartBeatCounter"
   ]
  },
  {
   "cell_type": "code",
   "execution_count": 4,
   "metadata": {},
   "outputs": [],
   "source": [
    "class HeartbeatGenerator(multiprocessing.Process):\n",
    "    def __init__(self, KFC_Main, KFC_Backup, topics, beatRate = 15, printLog = True):\n",
    "        '''\n",
    "        Send heartbeats every 15 Sec\n",
    "        '''\n",
    "        multiprocessing.Process.__init__(self)\n",
    "        self.stop_event = multiprocessing.Event()\n",
    "        self.KFC_Main = KFC_Main\n",
    "        self.KFC_Backup = KFC_Backup\n",
    "        self.topics = topics\n",
    "        self.printLog = printLog\n",
    "        self.beatRate = beatRate\n",
    "    def stop(self):\n",
    "        self.stop_event.set()\n",
    "        \n",
    "    def run(self):\n",
    "        global heartBeatCounter\n",
    "        global heartBeatMessage\n",
    "        # Send heart beats to KFC0 to both topics\n",
    "        producer_KFC_Main = KafkaProducer(bootstrap_servers= self.KFC_Main)\n",
    "        # Send heart beats \n",
    "        producer_KFC_Backup = KafkaProducer(bootstrap_servers= self.KFC_Backup)\n",
    "        \n",
    "        while not self.stop_event.is_set():\n",
    "            message = str(heartBeatMessage) #datetime.now().strftime('%Y-%m-%d %H:%M:%S')\n",
    "            if(printLog):\n",
    "                print(\"Sending global heartbeat:\" + message)\n",
    "                \n",
    "            producer_KFC_Main.send(topic = topics[0], value = message)\n",
    "            heartBeatCounter[0] += 1\n",
    "            if(printLog):\n",
    "                print(\"Sending local heartbeat to KFC0:\" + message)\n",
    "            producer_KFC_Main.send(topic = topics[1], value = message, key = \"KFC_Main\")\n",
    "            heartBeatCounter[1] += 1\n",
    "            if(printLog):\n",
    "                print(\"Sending local heartbeat to KFC1:\" + message)\n",
    "            producer_KFC_Backup.send(topic = topics[1], value = message , key = \"KFC_Backup\")\n",
    "            heartBeatCounter[2] += 1\n",
    "            time.sleep(self.beatRate)\n",
    "            #print(heartBeatCounter)\n",
    "            #print(heartBeatMessage)\n",
    "            #print(\"#####\")\n",
    "            heartBeatMessage += 1\n",
    "            if self.stop_event.is_set():\n",
    "                break\n",
    "\n",
    "class HeartRateMonitor(multiprocessing.Process):\n",
    "    def __init__(self, KFC, topics, printLog = False):\n",
    "        multiprocessing.Process.__init__(self)\n",
    "        self.stop_event = multiprocessing.Event()\n",
    "        self.KFC = KFC\n",
    "        self.topics = topics\n",
    "        self.printLog = printLog\n",
    "    def stop(self):\n",
    "        self.stop_event.set()\n",
    "        \n",
    "    def run(self):\n",
    "        global heartBeatCounter\n",
    "        global heartBeatMessage\n",
    "        consumer_KFC = KafkaConsumer(bootstrap_servers= self.KFC,\n",
    "                                 auto_offset_reset='latest')\n",
    "        consumer_KFC.subscribe(topics)\n",
    "        while not self.stop_event.is_set():\n",
    "            for message in consumer_KFC:\n",
    "                i = -1\n",
    "                if(str(message.topic) == \"beatsGlobal\"):\n",
    "                    i = 0\n",
    "                elif(str(message.topic) == \"beatsLocal\"):\n",
    "                    if(message.key == \"KFC_Main\"):\n",
    "                        i = 1\n",
    "                    elif(message.key == \"KFC_Backup\"):\n",
    "                        i = 2\n",
    "                if(i >= 0):\n",
    "                    print(\"heartBeatMessage:{},message.value:{},newValue at {} = {}\".format(heartBeatMessage,message.value,i,max(0, heartBeatMessage - int(message.value))))\n",
    "                    heartBeatCounter[i] = max(0, heartBeatMessage - int(message.value))\n",
    "                print(heartBeatCounter)\n",
    "                if(printLog):\n",
    "                    print(\"Receive {} message from {}: {}\".format(str(message.topic), self.KFC, str(message.value)))\n",
    "                if self.stop_event.is_set():\n",
    "                    break\n",
    "\n",
    "        consumer.close()"
   ]
  },
  {
   "cell_type": "code",
   "execution_count": 5,
   "metadata": {},
   "outputs": [],
   "source": [
    "printLog = True\n",
    "beatRate = 5\n",
    "tasks = [\n",
    "        HeartbeatGenerator(KFC_0, KFC_1, topics, beatRate = beatRate, printLog = printLog),\n",
    "    HeartRateMonitor(KFC_0 , topics, printLog = printLog),\n",
    "    HeartRateMonitor(KFC_1, topics, printLog= printLog)\n",
    "]"
   ]
  },
  {
   "cell_type": "code",
   "execution_count": 6,
   "metadata": {},
   "outputs": [
    {
     "name": "stderr",
     "output_type": "stream",
     "text": [
      "Process HeartRateMonitor-3:\n",
      "Traceback (most recent call last):\n",
      "  File \"/home/wang/anaconda2/lib/python2.7/multiprocessing/process.py\", line 267, in _bootstrap\n",
      "    self.run()\n",
      "  File \"<ipython-input-4-d1299a98dd0a>\", line 61, in run\n",
      "    auto_offset_reset='latest')\n",
      "  File \"/home/wang/anaconda2/lib/python2.7/site-packages/kafka/consumer/group.py\", line 324, in __init__\n",
      "    self._client = KafkaClient(metrics=self._metrics, **self.config)\n",
      "  File \"/home/wang/anaconda2/lib/python2.7/site-packages/kafka/client_async.py\", line 221, in __init__\n",
      "    self.config['api_version'] = self.check_version(timeout=check_timeout)\n",
      "  File \"/home/wang/anaconda2/lib/python2.7/site-packages/kafka/client_async.py\", line 826, in check_version\n",
      "    raise Errors.NoBrokersAvailable()\n",
      "NoBrokersAvailable: NoBrokersAvailable\n",
      "Process HeartbeatGenerator-1:\n",
      "Traceback (most recent call last):\n",
      "  File \"/home/wang/anaconda2/lib/python2.7/multiprocessing/process.py\", line 267, in _bootstrap\n",
      "    self.run()\n",
      "  File \"<ipython-input-4-d1299a98dd0a>\", line 22, in run\n",
      "    producer_KFC_Backup = KafkaProducer(bootstrap_servers= self.KFC_Backup)\n",
      "  File \"/home/wang/anaconda2/lib/python2.7/site-packages/kafka/producer/kafka.py\", line 347, in __init__\n",
      "    **self.config)\n",
      "  File \"/home/wang/anaconda2/lib/python2.7/site-packages/kafka/client_async.py\", line 221, in __init__\n",
      "    self.config['api_version'] = self.check_version(timeout=check_timeout)\n",
      "  File \"/home/wang/anaconda2/lib/python2.7/site-packages/kafka/client_async.py\", line 826, in check_version\n",
      "    raise Errors.NoBrokersAvailable()\n",
      "NoBrokersAvailable: NoBrokersAvailable\n"
     ]
    }
   ],
   "source": [
    "for t in tasks:\n",
    "        t.start()"
   ]
  },
  {
   "cell_type": "code",
   "execution_count": 53,
   "metadata": {},
   "outputs": [],
   "source": [
    "for t in tasks:\n",
    "        t.stop()"
   ]
  },
  {
   "cell_type": "code",
   "execution_count": 1,
   "metadata": {},
   "outputs": [],
   "source": [
    "mystatus = [0,0,0]"
   ]
  },
  {
   "cell_type": "code",
   "execution_count": 2,
   "metadata": {},
   "outputs": [],
   "source": [
    "mystatus[0] +=1"
   ]
  },
  {
   "cell_type": "code",
   "execution_count": 4,
   "metadata": {},
   "outputs": [
    {
     "data": {
      "text/plain": [
       "[1, 0, 0]"
      ]
     },
     "execution_count": 4,
     "metadata": {},
     "output_type": "execute_result"
    }
   ],
   "source": [
    "mystatus"
   ]
  },
  {
   "cell_type": "code",
   "execution_count": null,
   "metadata": {},
   "outputs": [],
   "source": []
  }
 ],
 "metadata": {
  "kernelspec": {
   "display_name": "Python 2",
   "language": "python",
   "name": "python2"
  },
  "language_info": {
   "codemirror_mode": {
    "name": "ipython",
    "version": 2
   },
   "file_extension": ".py",
   "mimetype": "text/x-python",
   "name": "python",
   "nbconvert_exporter": "python",
   "pygments_lexer": "ipython2",
   "version": "2.7.15"
  }
 },
 "nbformat": 4,
 "nbformat_minor": 2
}
